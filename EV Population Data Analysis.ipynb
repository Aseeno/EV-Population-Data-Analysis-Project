# ELECTRIC VEHICLE POPULATION DATA ANALYSIS



Name: Aseeno
Organization: Entri Elevate
Date: 14-01



1. Overview Of Problem Statement

In today's rapidly evolving transportation landscape, the adoption of electric vehicles (EVs) is crucial for mitigating climate change and
reducing reliance on fossil fuels. However, understanding the factors influencing EV adoption and predicting future trends is essential for
policymakers and stakeholders to effectively plan and implement strategies to accelerate EV adoption.
          This project aims to address this challenge by leveraging machine learning techniques to analyze a dataset of EV vehicle 
population data. The dataset includes various features such as vehicle type, year of manufacture, county, city, and possibly socio-economic
indicators for each location. By analyzing this data, we seek to identify key factors driving EV adoption and build predictive models to 
forecast future EV adoption trends in different regions.
           Such a solution holds significant importance for promoting sustainable transportation. It can help policymakers and stakeholders 
to effectively plan and implement strategies to accelerate EV adoption. This project aims to address this challenge by leveraging machine
learning techniques to analyze a dataset of EV vehicle population data. The dataset includes various features such as vehicle type, year of
manufacture, county, city, and possibly socio-economic indicators for each location. By analyzing this data, we seek to identify key factors 
driving EV adoption and build predictive models to forecast future EV adoption trends in different regions.
Such a solution holds significant importance for promoting sustainable transportation. It can help policymakers and urban planners 
understand the needs of EV drivers, optimize infrastructure planning (e.g., charging stations), and implement effective policies to encourage
EV adoption. This initiative aligns with the broader goal of transitioning to a cleaner and more sustainable transportation system.

Objective

To analyze the distribution and characteristics of electric vehicles across regions, manufacturers, and vehicle types. This includes:

Identifying popular EV models and manufacturers.
Understanding the geographic distribution of EVs.
Analyzing the impact of features like electric range and CAFV eligibility on adoption.


Data Description :
Dataset can be loaded from the link:https://drive.google.com/file/d/1XSEnDnmcUvDYBzpdpkGM9obpNNIQc8DS/view?usp=drive_link


FEATURES:

     1.VIN (1-10)
     2.County
     3.City
     4.State
     5.Postal Code
     6.Model Year
     7.Make
     8.Model
     9.Electric Vehicle Type
    10.Clean Alternative Fuel Vehicle (CAFV) Eligibility
    11.Electric Range
    12.Base MSRP
    13.Legislative District
    14.DOL Vehicle ID
    15.Vehicle Location
    16.Electric Utility
    17.2020 Census Tract








